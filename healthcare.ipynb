{
 "cells": [
  {
   "cell_type": "code",
   "execution_count": null,
   "metadata": {},
   "outputs": [],
   "source": [
    "! pip install pandas pymysql"
   ]
  },
  {
   "cell_type": "code",
   "execution_count": null,
   "metadata": {},
   "outputs": [],
   "source": [
    "! pip install openpyxl"
   ]
  },
  {
   "cell_type": "code",
   "execution_count": 3,
   "metadata": {},
   "outputs": [],
   "source": [
    "import pandas as pd"
   ]
  },
  {
   "cell_type": "code",
   "execution_count": null,
   "metadata": {},
   "outputs": [],
   "source": [
    "# Importing Health-care Data\n",
    "data = pd.read_excel(\"C:/Users/sanju/Downloads/Healtcare-Dataset.xlsx\")\n",
    "pd.DataFrame(data)"
   ]
  },
  {
   "cell_type": "code",
   "execution_count": null,
   "metadata": {},
   "outputs": [],
   "source": [
    "# getting info about Health-care data\n",
    "data.info()"
   ]
  },
  {
   "cell_type": "code",
   "execution_count": null,
   "metadata": {},
   "outputs": [],
   "source": [
    "# Getting an idea whether there are any NULl values in the data\n",
    "data.isnull().sum().any()"
   ]
  },
  {
   "cell_type": "code",
   "execution_count": 7,
   "metadata": {},
   "outputs": [],
   "source": [
    "# True means that there are NULL values in the data."
   ]
  },
  {
   "cell_type": "code",
   "execution_count": null,
   "metadata": {},
   "outputs": [],
   "source": [
    "# Identifying the column in which we have NULL values\n",
    "data.isnull().sum()"
   ]
  },
  {
   "cell_type": "code",
   "execution_count": null,
   "metadata": {},
   "outputs": [],
   "source": [
    "# Dropping any rows with NULL values at 'any' position\n",
    "data1 = data.dropna(how = 'any')\n",
    "print(data)"
   ]
  },
  {
   "cell_type": "code",
   "execution_count": null,
   "metadata": {},
   "outputs": [],
   "source": [
    "# Dropping the NULL values \n",
    "data1 = data.dropna(how = 'all')\n",
    "print('\\nProcessed DataFrame :\\n', data1)\n",
    "\n",
    "data2 = data.dropna(how = 'all', axis = 1)  # axis= 1 means column wise , to get records in actual DataFrame to change use inplace = True\n",
    "print('\\nProcessed DataFrame :\\n', data2)"
   ]
  },
  {
   "cell_type": "code",
   "execution_count": 11,
   "metadata": {},
   "outputs": [],
   "source": [
    "# Imputating the data -> Replacing NULL values with another value"
   ]
  },
  {
   "cell_type": "code",
   "execution_count": null,
   "metadata": {},
   "outputs": [],
   "source": [
    "# Calculate the median of the 'followup_date' column\n",
    "median_followup_date = data['Followup Date'].median()\n",
    "data['Followup Date'].fillna(median_followup_date)\n",
    "\n"
   ]
  },
  {
   "cell_type": "code",
   "execution_count": null,
   "metadata": {},
   "outputs": [],
   "source": [
    "data['Followup Date']"
   ]
  },
  {
   "cell_type": "code",
   "execution_count": 14,
   "metadata": {},
   "outputs": [],
   "source": [
    "# Calculate the median of the 'followup_date' column\n",
    "median_followup_date = data['Followup Date'].median()\n",
    "data['Followup Date'].fillna(median_followup_date, inplace= True)\n",
    "\n"
   ]
  },
  {
   "cell_type": "code",
   "execution_count": 15,
   "metadata": {},
   "outputs": [],
   "source": [
    "# drop columns with missing values\n",
    "data.dropna(axis=1, inplace=True)"
   ]
  },
  {
   "cell_type": "code",
   "execution_count": null,
   "metadata": {},
   "outputs": [],
   "source": [
    "# Getting an idea whether there are any NULl values in the data\n",
    "data.isnull().sum().any()"
   ]
  },
  {
   "cell_type": "code",
   "execution_count": null,
   "metadata": {},
   "outputs": [],
   "source": [
    "# Identifying the column in which we have NULL values\n",
    "data.isnull().sum()"
   ]
  },
  {
   "cell_type": "code",
   "execution_count": 18,
   "metadata": {},
   "outputs": [],
   "source": [
    "# Table Creation\n",
    "\n",
    "import pymysql\n",
    "\n",
    "# Using MYSQL Connection\n",
    "mydb = pymysql.connect(\n",
    "     host = 'localhost',\n",
    "     user = 'root',\n",
    "     password = 'root',\n",
    "     database = 'healthcare_data'\n",
    ")\n",
    "\n",
    "mycursor = mydb.cursor()\n"
   ]
  },
  {
   "cell_type": "code",
   "execution_count": 21,
   "metadata": {},
   "outputs": [],
   "source": [
    "# Create table Healthcare\n",
    "\n",
    "query1= (\"\"\"CREATE TABLE if not exists Healthcare(Patient_ID INT, \n",
    "                                                  Admit_Date  DATE,  \n",
    "                                                  Discharge_Date DATE, \n",
    "                                                  Diagnosis VARCHAR(200),\n",
    "                                                  Bed_Occupancy VARCHAR(200),\n",
    "                                                  Test VARCHAR(200),\n",
    "                                                  Doctor VARCHAR(200),\n",
    "                                                  Followup_Date DATE,\n",
    "                                                  Feedback FLOAT,\n",
    "                                                  Billing_Amount INT,\n",
    "                                                  Health_Insurance_Amount FLOAT )\"\"\")\n",
    "mycursor.execute(query1)\n",
    "mydb.commit()\n",
    "\n",
    "# Insert values into table\n",
    "insert_query1 = \"\"\"\n",
    "        INSERT INTO Healthcare \n",
    "        (Patient_ID, Admit_Date, Discharge_Date, Diagnosis, Bed_Occupancy,Test,Doctor,Followup_Date,Feedback,Billing_Amount,Health_Insurance_Amount) \n",
    "        VALUES (%s, %s, %s, %s, %s, %s,%s,%s,%s,%s,%s)\n",
    "        \"\"\"\n",
    "\n",
    "d = data.values.tolist()\n",
    "mycursor.executemany(insert_query1,d)\n",
    "mydb.commit()\n"
   ]
  }
 ],
 "metadata": {
  "kernelspec": {
   "display_name": "Python 3",
   "language": "python",
   "name": "python3"
  },
  "language_info": {
   "codemirror_mode": {
    "name": "ipython",
    "version": 3
   },
   "file_extension": ".py",
   "mimetype": "text/x-python",
   "name": "python",
   "nbconvert_exporter": "python",
   "pygments_lexer": "ipython3",
   "version": "3.13.1"
  }
 },
 "nbformat": 4,
 "nbformat_minor": 2
}
